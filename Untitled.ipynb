{
 "cells": [
  {
   "cell_type": "code",
   "execution_count": 4,
   "id": "af128afe",
   "metadata": {},
   "outputs": [],
   "source": [
    "import pandas as pd\n",
    "import numpy as np\n",
    "import matplotlib.pyplot as plt\n",
    "import seaborn as sns\n",
    "%matplotlib inline"
   ]
  },
  {
   "cell_type": "code",
   "execution_count": 5,
   "id": "0a9849d5",
   "metadata": {},
   "outputs": [],
   "source": [
    "import os\n",
    "path = os.getcwd() + \"/individual_stocks_5yr\"\n",
    "list1 = os.listdir(path)\n",
    "df_list = list()\n",
    "k = 0\n",
    "for i in list1:\n",
    "    x = pd.read_csv(path + \"/\" + i)\n",
    "    y = x.iloc[:,1:5]\n",
    "    for j in y.columns:\n",
    "        mean_value = y[j].mean()\n",
    "        y[j].fillna(value = mean_value, inplace = True)\n",
    "    y['date'] = x['date']\n",
    "    y.insert(0, 'name', k)\n",
    "    k += 1\n",
    "    df_list.append(y)\n",
    "new_df = pd.concat(df_list)"
   ]
  },
  {
   "cell_type": "code",
   "execution_count": 6,
   "id": "5e8bee61",
   "metadata": {},
   "outputs": [
    {
     "data": {
      "text/html": [
       "<div>\n",
       "<style scoped>\n",
       "    .dataframe tbody tr th:only-of-type {\n",
       "        vertical-align: middle;\n",
       "    }\n",
       "\n",
       "    .dataframe tbody tr th {\n",
       "        vertical-align: top;\n",
       "    }\n",
       "\n",
       "    .dataframe thead th {\n",
       "        text-align: right;\n",
       "    }\n",
       "</style>\n",
       "<table border=\"1\" class=\"dataframe\">\n",
       "  <thead>\n",
       "    <tr style=\"text-align: right;\">\n",
       "      <th></th>\n",
       "      <th>name</th>\n",
       "      <th>open</th>\n",
       "      <th>high</th>\n",
       "      <th>low</th>\n",
       "      <th>close</th>\n",
       "      <th>date</th>\n",
       "    </tr>\n",
       "  </thead>\n",
       "  <tbody>\n",
       "    <tr>\n",
       "      <th>0</th>\n",
       "      <td>0</td>\n",
       "      <td>15.07</td>\n",
       "      <td>15.12</td>\n",
       "      <td>14.63</td>\n",
       "      <td>14.75</td>\n",
       "      <td>2013-02-08</td>\n",
       "    </tr>\n",
       "    <tr>\n",
       "      <th>1</th>\n",
       "      <td>0</td>\n",
       "      <td>14.89</td>\n",
       "      <td>15.01</td>\n",
       "      <td>14.26</td>\n",
       "      <td>14.46</td>\n",
       "      <td>2013-02-11</td>\n",
       "    </tr>\n",
       "    <tr>\n",
       "      <th>2</th>\n",
       "      <td>0</td>\n",
       "      <td>14.45</td>\n",
       "      <td>14.51</td>\n",
       "      <td>14.10</td>\n",
       "      <td>14.27</td>\n",
       "      <td>2013-02-12</td>\n",
       "    </tr>\n",
       "    <tr>\n",
       "      <th>3</th>\n",
       "      <td>0</td>\n",
       "      <td>14.30</td>\n",
       "      <td>14.94</td>\n",
       "      <td>14.25</td>\n",
       "      <td>14.66</td>\n",
       "      <td>2013-02-13</td>\n",
       "    </tr>\n",
       "    <tr>\n",
       "      <th>4</th>\n",
       "      <td>0</td>\n",
       "      <td>14.94</td>\n",
       "      <td>14.96</td>\n",
       "      <td>13.16</td>\n",
       "      <td>13.99</td>\n",
       "      <td>2013-02-14</td>\n",
       "    </tr>\n",
       "  </tbody>\n",
       "</table>\n",
       "</div>"
      ],
      "text/plain": [
       "   name   open   high    low  close        date\n",
       "0     0  15.07  15.12  14.63  14.75  2013-02-08\n",
       "1     0  14.89  15.01  14.26  14.46  2013-02-11\n",
       "2     0  14.45  14.51  14.10  14.27  2013-02-12\n",
       "3     0  14.30  14.94  14.25  14.66  2013-02-13\n",
       "4     0  14.94  14.96  13.16  13.99  2013-02-14"
      ]
     },
     "execution_count": 6,
     "metadata": {},
     "output_type": "execute_result"
    }
   ],
   "source": [
    "new_df.head()"
   ]
  },
  {
   "cell_type": "code",
   "execution_count": 7,
   "id": "b878418c",
   "metadata": {},
   "outputs": [
    {
     "data": {
      "text/plain": [
       "name     0\n",
       "open     0\n",
       "high     0\n",
       "low      0\n",
       "close    0\n",
       "date     0\n",
       "dtype: int64"
      ]
     },
     "execution_count": 7,
     "metadata": {},
     "output_type": "execute_result"
    }
   ],
   "source": [
    "new_df.isnull().sum()"
   ]
  },
  {
   "cell_type": "code",
   "execution_count": 8,
   "id": "24aa6d52",
   "metadata": {
    "scrolled": true
   },
   "outputs": [
    {
     "data": {
      "text/html": [
       "<div>\n",
       "<style scoped>\n",
       "    .dataframe tbody tr th:only-of-type {\n",
       "        vertical-align: middle;\n",
       "    }\n",
       "\n",
       "    .dataframe tbody tr th {\n",
       "        vertical-align: top;\n",
       "    }\n",
       "\n",
       "    .dataframe thead th {\n",
       "        text-align: right;\n",
       "    }\n",
       "</style>\n",
       "<table border=\"1\" class=\"dataframe\">\n",
       "  <thead>\n",
       "    <tr style=\"text-align: right;\">\n",
       "      <th></th>\n",
       "      <th>name</th>\n",
       "      <th>open</th>\n",
       "      <th>high</th>\n",
       "      <th>low</th>\n",
       "      <th>close</th>\n",
       "      <th>date</th>\n",
       "    </tr>\n",
       "  </thead>\n",
       "  <tbody>\n",
       "    <tr>\n",
       "      <th>0</th>\n",
       "      <td>0</td>\n",
       "      <td>15.07</td>\n",
       "      <td>15.12</td>\n",
       "      <td>14.63</td>\n",
       "      <td>14.75</td>\n",
       "      <td>2013-02-08</td>\n",
       "    </tr>\n",
       "    <tr>\n",
       "      <th>1</th>\n",
       "      <td>0</td>\n",
       "      <td>14.89</td>\n",
       "      <td>15.01</td>\n",
       "      <td>14.26</td>\n",
       "      <td>14.46</td>\n",
       "      <td>2013-02-11</td>\n",
       "    </tr>\n",
       "    <tr>\n",
       "      <th>2</th>\n",
       "      <td>0</td>\n",
       "      <td>14.45</td>\n",
       "      <td>14.51</td>\n",
       "      <td>14.10</td>\n",
       "      <td>14.27</td>\n",
       "      <td>2013-02-12</td>\n",
       "    </tr>\n",
       "    <tr>\n",
       "      <th>3</th>\n",
       "      <td>0</td>\n",
       "      <td>14.30</td>\n",
       "      <td>14.94</td>\n",
       "      <td>14.25</td>\n",
       "      <td>14.66</td>\n",
       "      <td>2013-02-13</td>\n",
       "    </tr>\n",
       "    <tr>\n",
       "      <th>4</th>\n",
       "      <td>0</td>\n",
       "      <td>14.94</td>\n",
       "      <td>14.96</td>\n",
       "      <td>13.16</td>\n",
       "      <td>13.99</td>\n",
       "      <td>2013-02-14</td>\n",
       "    </tr>\n",
       "  </tbody>\n",
       "</table>\n",
       "</div>"
      ],
      "text/plain": [
       "   name   open   high    low  close        date\n",
       "0     0  15.07  15.12  14.63  14.75  2013-02-08\n",
       "1     0  14.89  15.01  14.26  14.46  2013-02-11\n",
       "2     0  14.45  14.51  14.10  14.27  2013-02-12\n",
       "3     0  14.30  14.94  14.25  14.66  2013-02-13\n",
       "4     0  14.94  14.96  13.16  13.99  2013-02-14"
      ]
     },
     "execution_count": 8,
     "metadata": {},
     "output_type": "execute_result"
    }
   ],
   "source": [
    "new_df.head()"
   ]
  },
  {
   "cell_type": "code",
   "execution_count": 9,
   "id": "4210a8bc",
   "metadata": {},
   "outputs": [
    {
     "data": {
      "text/html": [
       "<div>\n",
       "<style scoped>\n",
       "    .dataframe tbody tr th:only-of-type {\n",
       "        vertical-align: middle;\n",
       "    }\n",
       "\n",
       "    .dataframe tbody tr th {\n",
       "        vertical-align: top;\n",
       "    }\n",
       "\n",
       "    .dataframe thead th {\n",
       "        text-align: right;\n",
       "    }\n",
       "</style>\n",
       "<table border=\"1\" class=\"dataframe\">\n",
       "  <thead>\n",
       "    <tr style=\"text-align: right;\">\n",
       "      <th></th>\n",
       "      <th>name</th>\n",
       "      <th>open</th>\n",
       "      <th>high</th>\n",
       "      <th>low</th>\n",
       "      <th>close</th>\n",
       "    </tr>\n",
       "  </thead>\n",
       "  <tbody>\n",
       "    <tr>\n",
       "      <th>name</th>\n",
       "      <td>1.000000</td>\n",
       "      <td>0.192883</td>\n",
       "      <td>0.192839</td>\n",
       "      <td>0.192945</td>\n",
       "      <td>0.192889</td>\n",
       "    </tr>\n",
       "    <tr>\n",
       "      <th>open</th>\n",
       "      <td>0.192883</td>\n",
       "      <td>1.000000</td>\n",
       "      <td>0.999932</td>\n",
       "      <td>0.999918</td>\n",
       "      <td>0.999857</td>\n",
       "    </tr>\n",
       "    <tr>\n",
       "      <th>high</th>\n",
       "      <td>0.192839</td>\n",
       "      <td>0.999932</td>\n",
       "      <td>1.000000</td>\n",
       "      <td>0.999889</td>\n",
       "      <td>0.999928</td>\n",
       "    </tr>\n",
       "    <tr>\n",
       "      <th>low</th>\n",
       "      <td>0.192945</td>\n",
       "      <td>0.999918</td>\n",
       "      <td>0.999889</td>\n",
       "      <td>1.000000</td>\n",
       "      <td>0.999931</td>\n",
       "    </tr>\n",
       "    <tr>\n",
       "      <th>close</th>\n",
       "      <td>0.192889</td>\n",
       "      <td>0.999857</td>\n",
       "      <td>0.999928</td>\n",
       "      <td>0.999931</td>\n",
       "      <td>1.000000</td>\n",
       "    </tr>\n",
       "  </tbody>\n",
       "</table>\n",
       "</div>"
      ],
      "text/plain": [
       "           name      open      high       low     close\n",
       "name   1.000000  0.192883  0.192839  0.192945  0.192889\n",
       "open   0.192883  1.000000  0.999932  0.999918  0.999857\n",
       "high   0.192839  0.999932  1.000000  0.999889  0.999928\n",
       "low    0.192945  0.999918  0.999889  1.000000  0.999931\n",
       "close  0.192889  0.999857  0.999928  0.999931  1.000000"
      ]
     },
     "execution_count": 9,
     "metadata": {},
     "output_type": "execute_result"
    }
   ],
   "source": [
    "#check collinearilty \n",
    "new_df.corr()"
   ]
  },
  {
   "cell_type": "code",
   "execution_count": 10,
   "id": "7bca2f94",
   "metadata": {},
   "outputs": [
    {
     "data": {
      "text/html": [
       "<div>\n",
       "<style scoped>\n",
       "    .dataframe tbody tr th:only-of-type {\n",
       "        vertical-align: middle;\n",
       "    }\n",
       "\n",
       "    .dataframe tbody tr th {\n",
       "        vertical-align: top;\n",
       "    }\n",
       "\n",
       "    .dataframe thead th {\n",
       "        text-align: right;\n",
       "    }\n",
       "</style>\n",
       "<table border=\"1\" class=\"dataframe\">\n",
       "  <thead>\n",
       "    <tr style=\"text-align: right;\">\n",
       "      <th></th>\n",
       "      <th>name</th>\n",
       "      <th>open</th>\n",
       "      <th>high</th>\n",
       "      <th>low</th>\n",
       "      <th>close</th>\n",
       "      <th>date</th>\n",
       "    </tr>\n",
       "  </thead>\n",
       "  <tbody>\n",
       "    <tr>\n",
       "      <th>0</th>\n",
       "      <td>0</td>\n",
       "      <td>15.07</td>\n",
       "      <td>15.12</td>\n",
       "      <td>14.63</td>\n",
       "      <td>14.75</td>\n",
       "      <td>2013-02-08</td>\n",
       "    </tr>\n",
       "    <tr>\n",
       "      <th>1</th>\n",
       "      <td>0</td>\n",
       "      <td>14.89</td>\n",
       "      <td>15.01</td>\n",
       "      <td>14.26</td>\n",
       "      <td>14.46</td>\n",
       "      <td>2013-02-11</td>\n",
       "    </tr>\n",
       "    <tr>\n",
       "      <th>2</th>\n",
       "      <td>0</td>\n",
       "      <td>14.45</td>\n",
       "      <td>14.51</td>\n",
       "      <td>14.10</td>\n",
       "      <td>14.27</td>\n",
       "      <td>2013-02-12</td>\n",
       "    </tr>\n",
       "    <tr>\n",
       "      <th>3</th>\n",
       "      <td>0</td>\n",
       "      <td>14.30</td>\n",
       "      <td>14.94</td>\n",
       "      <td>14.25</td>\n",
       "      <td>14.66</td>\n",
       "      <td>2013-02-13</td>\n",
       "    </tr>\n",
       "    <tr>\n",
       "      <th>4</th>\n",
       "      <td>0</td>\n",
       "      <td>14.94</td>\n",
       "      <td>14.96</td>\n",
       "      <td>13.16</td>\n",
       "      <td>13.99</td>\n",
       "      <td>2013-02-14</td>\n",
       "    </tr>\n",
       "  </tbody>\n",
       "</table>\n",
       "</div>"
      ],
      "text/plain": [
       "   name   open   high    low  close        date\n",
       "0     0  15.07  15.12  14.63  14.75  2013-02-08\n",
       "1     0  14.89  15.01  14.26  14.46  2013-02-11\n",
       "2     0  14.45  14.51  14.10  14.27  2013-02-12\n",
       "3     0  14.30  14.94  14.25  14.66  2013-02-13\n",
       "4     0  14.94  14.96  13.16  13.99  2013-02-14"
      ]
     },
     "execution_count": 10,
     "metadata": {},
     "output_type": "execute_result"
    }
   ],
   "source": [
    "new_df.head()"
   ]
  },
  {
   "cell_type": "code",
   "execution_count": 46,
   "id": "888ad338",
   "metadata": {},
   "outputs": [],
   "source": [
    "for i in new_df['date']:\n",
    "    h = i.split(\"-\")\n",
    "    total = int(h[0]+h[1]+h[2])\n",
    "    new_df = new_df.replace(i,total)"
   ]
  },
  {
   "cell_type": "code",
   "execution_count": 11,
   "id": "a3b40280",
   "metadata": {},
   "outputs": [
    {
     "data": {
      "text/html": [
       "<div>\n",
       "<style scoped>\n",
       "    .dataframe tbody tr th:only-of-type {\n",
       "        vertical-align: middle;\n",
       "    }\n",
       "\n",
       "    .dataframe tbody tr th {\n",
       "        vertical-align: top;\n",
       "    }\n",
       "\n",
       "    .dataframe thead th {\n",
       "        text-align: right;\n",
       "    }\n",
       "</style>\n",
       "<table border=\"1\" class=\"dataframe\">\n",
       "  <thead>\n",
       "    <tr style=\"text-align: right;\">\n",
       "      <th></th>\n",
       "      <th>name</th>\n",
       "      <th>open</th>\n",
       "      <th>high</th>\n",
       "      <th>low</th>\n",
       "      <th>close</th>\n",
       "      <th>date</th>\n",
       "    </tr>\n",
       "  </thead>\n",
       "  <tbody>\n",
       "    <tr>\n",
       "      <th>0</th>\n",
       "      <td>0</td>\n",
       "      <td>15.07</td>\n",
       "      <td>15.12</td>\n",
       "      <td>14.63</td>\n",
       "      <td>14.75</td>\n",
       "      <td>2013-02-08</td>\n",
       "    </tr>\n",
       "    <tr>\n",
       "      <th>1</th>\n",
       "      <td>0</td>\n",
       "      <td>14.89</td>\n",
       "      <td>15.01</td>\n",
       "      <td>14.26</td>\n",
       "      <td>14.46</td>\n",
       "      <td>2013-02-11</td>\n",
       "    </tr>\n",
       "    <tr>\n",
       "      <th>2</th>\n",
       "      <td>0</td>\n",
       "      <td>14.45</td>\n",
       "      <td>14.51</td>\n",
       "      <td>14.10</td>\n",
       "      <td>14.27</td>\n",
       "      <td>2013-02-12</td>\n",
       "    </tr>\n",
       "    <tr>\n",
       "      <th>3</th>\n",
       "      <td>0</td>\n",
       "      <td>14.30</td>\n",
       "      <td>14.94</td>\n",
       "      <td>14.25</td>\n",
       "      <td>14.66</td>\n",
       "      <td>2013-02-13</td>\n",
       "    </tr>\n",
       "    <tr>\n",
       "      <th>4</th>\n",
       "      <td>0</td>\n",
       "      <td>14.94</td>\n",
       "      <td>14.96</td>\n",
       "      <td>13.16</td>\n",
       "      <td>13.99</td>\n",
       "      <td>2013-02-14</td>\n",
       "    </tr>\n",
       "  </tbody>\n",
       "</table>\n",
       "</div>"
      ],
      "text/plain": [
       "   name   open   high    low  close        date\n",
       "0     0  15.07  15.12  14.63  14.75  2013-02-08\n",
       "1     0  14.89  15.01  14.26  14.46  2013-02-11\n",
       "2     0  14.45  14.51  14.10  14.27  2013-02-12\n",
       "3     0  14.30  14.94  14.25  14.66  2013-02-13\n",
       "4     0  14.94  14.96  13.16  13.99  2013-02-14"
      ]
     },
     "execution_count": 11,
     "metadata": {},
     "output_type": "execute_result"
    }
   ],
   "source": [
    "new_df.head()"
   ]
  },
  {
   "cell_type": "code",
   "execution_count": 12,
   "id": "a1397dbe",
   "metadata": {},
   "outputs": [
    {
     "data": {
      "text/plain": [
       "(72870, 6)"
      ]
     },
     "execution_count": 12,
     "metadata": {},
     "output_type": "execute_result"
    }
   ],
   "source": [
    "new_df.shape"
   ]
  },
  {
   "cell_type": "code",
   "execution_count": 13,
   "id": "5fd3bd6e",
   "metadata": {},
   "outputs": [
    {
     "data": {
      "text/html": [
       "<div>\n",
       "<style scoped>\n",
       "    .dataframe tbody tr th:only-of-type {\n",
       "        vertical-align: middle;\n",
       "    }\n",
       "\n",
       "    .dataframe tbody tr th {\n",
       "        vertical-align: top;\n",
       "    }\n",
       "\n",
       "    .dataframe thead th {\n",
       "        text-align: right;\n",
       "    }\n",
       "</style>\n",
       "<table border=\"1\" class=\"dataframe\">\n",
       "  <thead>\n",
       "    <tr style=\"text-align: right;\">\n",
       "      <th></th>\n",
       "      <th>name</th>\n",
       "      <th>open</th>\n",
       "      <th>high</th>\n",
       "      <th>low</th>\n",
       "      <th>close</th>\n",
       "    </tr>\n",
       "  </thead>\n",
       "  <tbody>\n",
       "    <tr>\n",
       "      <th>count</th>\n",
       "      <td>72870.000000</td>\n",
       "      <td>72870.000000</td>\n",
       "      <td>72870.000000</td>\n",
       "      <td>72870.000000</td>\n",
       "      <td>72870.000000</td>\n",
       "    </tr>\n",
       "    <tr>\n",
       "      <th>mean</th>\n",
       "      <td>28.705256</td>\n",
       "      <td>101.559761</td>\n",
       "      <td>102.514725</td>\n",
       "      <td>100.576037</td>\n",
       "      <td>101.580107</td>\n",
       "    </tr>\n",
       "    <tr>\n",
       "      <th>std</th>\n",
       "      <td>17.032894</td>\n",
       "      <td>115.420102</td>\n",
       "      <td>116.419557</td>\n",
       "      <td>114.327917</td>\n",
       "      <td>115.411466</td>\n",
       "    </tr>\n",
       "    <tr>\n",
       "      <th>min</th>\n",
       "      <td>0.000000</td>\n",
       "      <td>1.620000</td>\n",
       "      <td>1.690000</td>\n",
       "      <td>1.610000</td>\n",
       "      <td>1.620000</td>\n",
       "    </tr>\n",
       "    <tr>\n",
       "      <th>25%</th>\n",
       "      <td>14.000000</td>\n",
       "      <td>48.442500</td>\n",
       "      <td>48.900000</td>\n",
       "      <td>48.000000</td>\n",
       "      <td>48.450000</td>\n",
       "    </tr>\n",
       "    <tr>\n",
       "      <th>50%</th>\n",
       "      <td>29.000000</td>\n",
       "      <td>70.670000</td>\n",
       "      <td>71.284500</td>\n",
       "      <td>70.030000</td>\n",
       "      <td>70.670000</td>\n",
       "    </tr>\n",
       "    <tr>\n",
       "      <th>75%</th>\n",
       "      <td>43.000000</td>\n",
       "      <td>112.980000</td>\n",
       "      <td>113.980000</td>\n",
       "      <td>111.880000</td>\n",
       "      <td>112.990000</td>\n",
       "    </tr>\n",
       "    <tr>\n",
       "      <th>max</th>\n",
       "      <td>58.000000</td>\n",
       "      <td>1477.390000</td>\n",
       "      <td>1498.000000</td>\n",
       "      <td>1450.040000</td>\n",
       "      <td>1450.890000</td>\n",
       "    </tr>\n",
       "  </tbody>\n",
       "</table>\n",
       "</div>"
      ],
      "text/plain": [
       "               name          open          high           low         close\n",
       "count  72870.000000  72870.000000  72870.000000  72870.000000  72870.000000\n",
       "mean      28.705256    101.559761    102.514725    100.576037    101.580107\n",
       "std       17.032894    115.420102    116.419557    114.327917    115.411466\n",
       "min        0.000000      1.620000      1.690000      1.610000      1.620000\n",
       "25%       14.000000     48.442500     48.900000     48.000000     48.450000\n",
       "50%       29.000000     70.670000     71.284500     70.030000     70.670000\n",
       "75%       43.000000    112.980000    113.980000    111.880000    112.990000\n",
       "max       58.000000   1477.390000   1498.000000   1450.040000   1450.890000"
      ]
     },
     "execution_count": 13,
     "metadata": {},
     "output_type": "execute_result"
    }
   ],
   "source": [
    "new_df.describe()"
   ]
  },
  {
   "cell_type": "code",
   "execution_count": 14,
   "id": "7e0e2df3",
   "metadata": {},
   "outputs": [],
   "source": [
    "z = 0\n",
    "for i in new_df['date']:\n",
    "    new_df = new_df.replace(i, z)\n",
    "    z += 1"
   ]
  },
  {
   "cell_type": "code",
   "execution_count": 15,
   "id": "68f89837",
   "metadata": {},
   "outputs": [
    {
     "data": {
      "text/html": [
       "<div>\n",
       "<style scoped>\n",
       "    .dataframe tbody tr th:only-of-type {\n",
       "        vertical-align: middle;\n",
       "    }\n",
       "\n",
       "    .dataframe tbody tr th {\n",
       "        vertical-align: top;\n",
       "    }\n",
       "\n",
       "    .dataframe thead th {\n",
       "        text-align: right;\n",
       "    }\n",
       "</style>\n",
       "<table border=\"1\" class=\"dataframe\">\n",
       "  <thead>\n",
       "    <tr style=\"text-align: right;\">\n",
       "      <th></th>\n",
       "      <th>name</th>\n",
       "      <th>open</th>\n",
       "      <th>high</th>\n",
       "      <th>low</th>\n",
       "      <th>close</th>\n",
       "      <th>date</th>\n",
       "    </tr>\n",
       "  </thead>\n",
       "  <tbody>\n",
       "    <tr>\n",
       "      <th>0</th>\n",
       "      <td>0</td>\n",
       "      <td>15.07</td>\n",
       "      <td>15.12</td>\n",
       "      <td>14.63</td>\n",
       "      <td>14.75</td>\n",
       "      <td>0</td>\n",
       "    </tr>\n",
       "    <tr>\n",
       "      <th>1</th>\n",
       "      <td>0</td>\n",
       "      <td>14.89</td>\n",
       "      <td>15.01</td>\n",
       "      <td>14.26</td>\n",
       "      <td>14.46</td>\n",
       "      <td>1</td>\n",
       "    </tr>\n",
       "    <tr>\n",
       "      <th>2</th>\n",
       "      <td>0</td>\n",
       "      <td>14.45</td>\n",
       "      <td>14.51</td>\n",
       "      <td>14.10</td>\n",
       "      <td>14.27</td>\n",
       "      <td>2</td>\n",
       "    </tr>\n",
       "    <tr>\n",
       "      <th>3</th>\n",
       "      <td>0</td>\n",
       "      <td>14.30</td>\n",
       "      <td>14.94</td>\n",
       "      <td>14.25</td>\n",
       "      <td>14.66</td>\n",
       "      <td>3</td>\n",
       "    </tr>\n",
       "    <tr>\n",
       "      <th>4</th>\n",
       "      <td>0</td>\n",
       "      <td>14.94</td>\n",
       "      <td>14.96</td>\n",
       "      <td>13.16</td>\n",
       "      <td>13.99</td>\n",
       "      <td>4</td>\n",
       "    </tr>\n",
       "  </tbody>\n",
       "</table>\n",
       "</div>"
      ],
      "text/plain": [
       "   name   open   high    low  close  date\n",
       "0     0  15.07  15.12  14.63  14.75     0\n",
       "1     0  14.89  15.01  14.26  14.46     1\n",
       "2     0  14.45  14.51  14.10  14.27     2\n",
       "3     0  14.30  14.94  14.25  14.66     3\n",
       "4     0  14.94  14.96  13.16  13.99     4"
      ]
     },
     "execution_count": 15,
     "metadata": {},
     "output_type": "execute_result"
    }
   ],
   "source": [
    "new_df.head()"
   ]
  },
  {
   "cell_type": "code",
   "execution_count": 16,
   "id": "d93af5a9",
   "metadata": {},
   "outputs": [
    {
     "data": {
      "text/html": [
       "<div>\n",
       "<style scoped>\n",
       "    .dataframe tbody tr th:only-of-type {\n",
       "        vertical-align: middle;\n",
       "    }\n",
       "\n",
       "    .dataframe tbody tr th {\n",
       "        vertical-align: top;\n",
       "    }\n",
       "\n",
       "    .dataframe thead th {\n",
       "        text-align: right;\n",
       "    }\n",
       "</style>\n",
       "<table border=\"1\" class=\"dataframe\">\n",
       "  <thead>\n",
       "    <tr style=\"text-align: right;\">\n",
       "      <th></th>\n",
       "      <th>name</th>\n",
       "      <th>open</th>\n",
       "      <th>high</th>\n",
       "      <th>low</th>\n",
       "      <th>date</th>\n",
       "    </tr>\n",
       "  </thead>\n",
       "  <tbody>\n",
       "    <tr>\n",
       "      <th>0</th>\n",
       "      <td>0</td>\n",
       "      <td>15.07</td>\n",
       "      <td>15.12</td>\n",
       "      <td>14.63</td>\n",
       "      <td>0</td>\n",
       "    </tr>\n",
       "    <tr>\n",
       "      <th>1</th>\n",
       "      <td>0</td>\n",
       "      <td>14.89</td>\n",
       "      <td>15.01</td>\n",
       "      <td>14.26</td>\n",
       "      <td>1</td>\n",
       "    </tr>\n",
       "    <tr>\n",
       "      <th>2</th>\n",
       "      <td>0</td>\n",
       "      <td>14.45</td>\n",
       "      <td>14.51</td>\n",
       "      <td>14.10</td>\n",
       "      <td>2</td>\n",
       "    </tr>\n",
       "    <tr>\n",
       "      <th>3</th>\n",
       "      <td>0</td>\n",
       "      <td>14.30</td>\n",
       "      <td>14.94</td>\n",
       "      <td>14.25</td>\n",
       "      <td>3</td>\n",
       "    </tr>\n",
       "    <tr>\n",
       "      <th>4</th>\n",
       "      <td>0</td>\n",
       "      <td>14.94</td>\n",
       "      <td>14.96</td>\n",
       "      <td>13.16</td>\n",
       "      <td>4</td>\n",
       "    </tr>\n",
       "  </tbody>\n",
       "</table>\n",
       "</div>"
      ],
      "text/plain": [
       "   name   open   high    low  date\n",
       "0     0  15.07  15.12  14.63     0\n",
       "1     0  14.89  15.01  14.26     1\n",
       "2     0  14.45  14.51  14.10     2\n",
       "3     0  14.30  14.94  14.25     3\n",
       "4     0  14.94  14.96  13.16     4"
      ]
     },
     "execution_count": 16,
     "metadata": {},
     "output_type": "execute_result"
    }
   ],
   "source": [
    "#donw with all the feature engineering\n",
    "#now independent and dependent variables\n",
    "X = new_df.iloc[:,:4]\n",
    "X['date'] = new_df['date']\n",
    "X.head()"
   ]
  },
  {
   "cell_type": "code",
   "execution_count": 17,
   "id": "9cc54f7b",
   "metadata": {},
   "outputs": [],
   "source": [
    "#dependent variable\n",
    "y = new_df['close']"
   ]
  },
  {
   "cell_type": "code",
   "execution_count": 18,
   "id": "675c4139",
   "metadata": {},
   "outputs": [
    {
     "data": {
      "text/plain": [
       "0    14.75\n",
       "1    14.46\n",
       "2    14.27\n",
       "3    14.66\n",
       "4    13.99\n",
       "Name: close, dtype: float64"
      ]
     },
     "execution_count": 18,
     "metadata": {},
     "output_type": "execute_result"
    }
   ],
   "source": [
    "y.head()"
   ]
  },
  {
   "cell_type": "code",
   "execution_count": 19,
   "id": "1ffca289",
   "metadata": {},
   "outputs": [],
   "source": [
    "#test train split\n",
    "from sklearn.model_selection import train_test_split\n",
    "X_train, X_test, y_train, y_test = train_test_split(X, y, test_size = 0.3, random_state = 42)"
   ]
  },
  {
   "cell_type": "code",
   "execution_count": 20,
   "id": "b055505f",
   "metadata": {},
   "outputs": [],
   "source": [
    "#now using the linear regression\n",
    "from sklearn.linear_model import LinearRegression\n",
    "lin_reg = LinearRegression()"
   ]
  },
  {
   "cell_type": "code",
   "execution_count": 21,
   "id": "b05d1827",
   "metadata": {},
   "outputs": [
    {
     "data": {
      "text/plain": [
       "LinearRegression()"
      ]
     },
     "execution_count": 21,
     "metadata": {},
     "output_type": "execute_result"
    }
   ],
   "source": [
    "lin_reg.fit(X_train,y_train)"
   ]
  },
  {
   "cell_type": "code",
   "execution_count": 30,
   "id": "a98de3aa",
   "metadata": {},
   "outputs": [],
   "source": [
    "#first do the feature scaling\n",
    "from sklearn.preprocessing import StandardScaler\n",
    "scaler = StandardScaler()"
   ]
  },
  {
   "cell_type": "code",
   "execution_count": 31,
   "id": "7a9c9186",
   "metadata": {},
   "outputs": [],
   "source": [
    "X_train = scaler.fit_transform(X_train)\n",
    "X_test = scaler.transform(X_test)"
   ]
  },
  {
   "cell_type": "code",
   "execution_count": 32,
   "id": "471407dc",
   "metadata": {},
   "outputs": [],
   "source": [
    "import pickle\n",
    "pickle.dump(scaler,open('scaling.pkl','wb'))"
   ]
  },
  {
   "cell_type": "code",
   "execution_count": 33,
   "id": "eeee7fe4",
   "metadata": {},
   "outputs": [
    {
     "data": {
      "text/plain": [
       "LinearRegression()"
      ]
     },
     "execution_count": 33,
     "metadata": {},
     "output_type": "execute_result"
    }
   ],
   "source": [
    "lin_reg.fit(X_train, y_train)"
   ]
  },
  {
   "cell_type": "code",
   "execution_count": 34,
   "id": "7a2776b0",
   "metadata": {},
   "outputs": [],
   "source": [
    "y_pred = lin_reg.predict(X_test)\n",
    "from sklearn.metrics import accuracy_score, r2_score, mean_squared_error"
   ]
  },
  {
   "cell_type": "code",
   "execution_count": 35,
   "id": "2b6627e9",
   "metadata": {},
   "outputs": [
    {
     "name": "stdout",
     "output_type": "stream",
     "text": [
      "0.9999409918236892\n",
      "0.7396943109674305\n"
     ]
    }
   ],
   "source": [
    "\n",
    "print(r2_score(y_pred,y_test))\n",
    "print(mean_squared_error(y_pred,y_test))"
   ]
  },
  {
   "cell_type": "code",
   "execution_count": 36,
   "id": "0890a4b8",
   "metadata": {},
   "outputs": [
    {
     "data": {
      "text/plain": [
       "<matplotlib.collections.PathCollection at 0x1d9e3e9f520>"
      ]
     },
     "execution_count": 36,
     "metadata": {},
     "output_type": "execute_result"
    },
    {
     "data": {
      "image/png": "[encoded data removed]",
      "text/plain": [
       "<Figure size 432x288 with 1 Axes>"
      ]
     },
     "metadata": {
      "needs_background": "light"
     },
     "output_type": "display_data"
    }
   ],
   "source": [
    "plt.scatter(y_pred,y_test)"
   ]
  },
  {
   "cell_type": "code",
   "execution_count": 37,
   "id": "4704fe9e",
   "metadata": {},
   "outputs": [],
   "source": [
    "#ok now comes the part to load the model\n",
    "import pickle\n",
    "pickle.dump(lin_reg,open('regmodel.pkl','wb'))\n",
    "pickle_model = pickle.load(open('regmodel.pkl','rb'))"
   ]
  },
  {
   "cell_type": "code",
   "execution_count": 75,
   "id": "64345ca8",
   "metadata": {},
   "outputs": [
    {
     "name": "stdout",
     "output_type": "stream",
     "text": [
      "{'AAL_data.csv': 0, 'AAPL_data.csv': 1, 'AAP_data.csv': 2, 'ABBV_data.csv': 3, 'ABC_data.csv': 4, 'ABT_data.csv': 5, 'ACN_data.csv': 6, 'ADBE_data.csv': 7, 'ADI_data.csv': 8, 'ADM_data.csv': 9, 'ADP_data.csv': 10, 'ADSK_data.csv': 11, 'ADS_data.csv': 12, 'AEE_data.csv': 13, 'AEP_data.csv': 14, 'AES_data.csv': 15, 'AET_data.csv': 16, 'AFL_data.csv': 17, 'AGN_data.csv': 18, 'AIG_data.csv': 19, 'AIV_data.csv': 20, 'AIZ_data.csv': 21, 'AJG_data.csv': 22, 'AKAM_data.csv': 23, 'ALB_data.csv': 24, 'ALGN_data.csv': 25, 'ALK_data.csv': 26, 'ALLE_data.csv': 27, 'ALL_data.csv': 28, 'ALXN_data.csv': 29, 'AMAT_data.csv': 30, 'AMD_data.csv': 31, 'AME_data.csv': 32, 'AMGN_data.csv': 33, 'AMG_data.csv': 34, 'AMP_data.csv': 35, 'AMT_data.csv': 36, 'AMZN_data.csv': 37, 'ANDV_data.csv': 38, 'ANSS_data.csv': 39, 'ANTM_data.csv': 40, 'AON_data.csv': 41, 'AOS_data.csv': 42, 'APA_data.csv': 43, 'APC_data.csv': 44, 'APD_data.csv': 45, 'APH_data.csv': 46, 'APTV_data.csv': 47, 'ARE_data.csv': 48, 'ARNC_data.csv': 49, 'ATVI_data.csv': 50, 'AVB_data.csv': 51, 'AVGO_data.csv': 52, 'AVY_data.csv': 53, 'AWK_data.csv': 54, 'AXP_data.csv': 55, 'AYI_data.csv': 56, 'AZO_data.csv': 57, 'A_data.csv': 58}\n"
     ]
    }
   ],
   "source": [
    "#making a dictionary to map the names to the number\n",
    "r = 0\n",
    "list1 = os.listdir(path)\n",
    "new_dict = dict()\n",
    "for i in list1:\n",
    "    new_dict[i] = r\n",
    "    r += 1\n",
    "print(new_dict)"
   ]
  },
  {
   "cell_type": "code",
   "execution_count": 76,
   "id": "1a42c21d",
   "metadata": {},
   "outputs": [
    {
     "name": "stdout",
     "output_type": "stream",
     "text": [
      "<option value=AAL_data.csv>AAL_data.csv</option>\n",
      "<option value=AAPL_data.csv>AAPL_data.csv</option>\n",
      "<option value=AAP_data.csv>AAP_data.csv</option>\n",
      "<option value=ABBV_data.csv>ABBV_data.csv</option>\n",
      "<option value=ABC_data.csv>ABC_data.csv</option>\n",
      "<option value=ABT_data.csv>ABT_data.csv</option>\n",
      "<option value=ACN_data.csv>ACN_data.csv</option>\n",
      "<option value=ADBE_data.csv>ADBE_data.csv</option>\n",
      "<option value=ADI_data.csv>ADI_data.csv</option>\n",
      "<option value=ADM_data.csv>ADM_data.csv</option>\n",
      "<option value=ADP_data.csv>ADP_data.csv</option>\n",
      "<option value=ADSK_data.csv>ADSK_data.csv</option>\n",
      "<option value=ADS_data.csv>ADS_data.csv</option>\n",
      "<option value=AEE_data.csv>AEE_data.csv</option>\n",
      "<option value=AEP_data.csv>AEP_data.csv</option>\n",
      "<option value=AES_data.csv>AES_data.csv</option>\n",
      "<option value=AET_data.csv>AET_data.csv</option>\n",
      "<option value=AFL_data.csv>AFL_data.csv</option>\n",
      "<option value=AGN_data.csv>AGN_data.csv</option>\n",
      "<option value=AIG_data.csv>AIG_data.csv</option>\n",
      "<option value=AIV_data.csv>AIV_data.csv</option>\n",
      "<option value=AIZ_data.csv>AIZ_data.csv</option>\n",
      "<option value=AJG_data.csv>AJG_data.csv</option>\n",
      "<option value=AKAM_data.csv>AKAM_data.csv</option>\n",
      "<option value=ALB_data.csv>ALB_data.csv</option>\n",
      "<option value=ALGN_data.csv>ALGN_data.csv</option>\n",
      "<option value=ALK_data.csv>ALK_data.csv</option>\n",
      "<option value=ALLE_data.csv>ALLE_data.csv</option>\n",
      "<option value=ALL_data.csv>ALL_data.csv</option>\n",
      "<option value=ALXN_data.csv>ALXN_data.csv</option>\n",
      "<option value=AMAT_data.csv>AMAT_data.csv</option>\n",
      "<option value=AMD_data.csv>AMD_data.csv</option>\n",
      "<option value=AME_data.csv>AME_data.csv</option>\n",
      "<option value=AMGN_data.csv>AMGN_data.csv</option>\n",
      "<option value=AMG_data.csv>AMG_data.csv</option>\n",
      "<option value=AMP_data.csv>AMP_data.csv</option>\n",
      "<option value=AMT_data.csv>AMT_data.csv</option>\n",
      "<option value=AMZN_data.csv>AMZN_data.csv</option>\n",
      "<option value=ANDV_data.csv>ANDV_data.csv</option>\n",
      "<option value=ANSS_data.csv>ANSS_data.csv</option>\n",
      "<option value=ANTM_data.csv>ANTM_data.csv</option>\n",
      "<option value=AON_data.csv>AON_data.csv</option>\n",
      "<option value=AOS_data.csv>AOS_data.csv</option>\n",
      "<option value=APA_data.csv>APA_data.csv</option>\n",
      "<option value=APC_data.csv>APC_data.csv</option>\n",
      "<option value=APD_data.csv>APD_data.csv</option>\n",
      "<option value=APH_data.csv>APH_data.csv</option>\n",
      "<option value=APTV_data.csv>APTV_data.csv</option>\n",
      "<option value=ARE_data.csv>ARE_data.csv</option>\n",
      "<option value=ARNC_data.csv>ARNC_data.csv</option>\n",
      "<option value=ATVI_data.csv>ATVI_data.csv</option>\n",
      "<option value=AVB_data.csv>AVB_data.csv</option>\n",
      "<option value=AVGO_data.csv>AVGO_data.csv</option>\n",
      "<option value=AVY_data.csv>AVY_data.csv</option>\n",
      "<option value=AWK_data.csv>AWK_data.csv</option>\n",
      "<option value=AXP_data.csv>AXP_data.csv</option>\n",
      "<option value=AYI_data.csv>AYI_data.csv</option>\n",
      "<option value=AZO_data.csv>AZO_data.csv</option>\n",
      "<option value=A_data.csv>A_data.csv</option>\n"
     ]
    }
   ],
   "source": [
    "for i in list1:\n",
    "    print(\"<option value=\"+i+\">\"+i+\"</option>\")"
   ]
  },
  {
   "cell_type": "code",
   "execution_count": 77,
   "id": "7ae11417",
   "metadata": {},
   "outputs": [
    {
     "ename": "SyntaxError",
     "evalue": "invalid syntax (Temp/ipykernel_16372/2572980607.py, line 1)",
     "output_type": "error",
     "traceback": [
      "\u001b[1;36m  File \u001b[1;32m\"C:\\Users\\MRITUN~1\\AppData\\Local\\Temp/ipykernel_16372/2572980607.py\"\u001b[1;36m, line \u001b[1;32m1\u001b[0m\n\u001b[1;33m    <option value=AAL_data.csv>AAL_data.csv</option>\u001b[0m\n\u001b[1;37m    ^\u001b[0m\n\u001b[1;31mSyntaxError\u001b[0m\u001b[1;31m:\u001b[0m invalid syntax\n"
     ]
    }
   ],
   "source": [
    "<option value=AAL_data.csv>AAL_data.csv</option>\n",
    "<option value=AAPL_data.csv>AAPL_data.csv</option>\n",
    "<option value=AAP_data.csv>AAP_data.csv</option>\n",
    "<option value=ABBV_data.csv>ABBV_data.csv</option>\n",
    "<option value=ABC_data.csv>ABC_data.csv</option>\n",
    "<option value=ABT_data.csv>ABT_data.csv</option>\n",
    "<option value=ACN_data.csv>ACN_data.csv</option>\n",
    "<option value=ADBE_data.csv>ADBE_data.csv</option>\n",
    "<option value=ADI_data.csv>ADI_data.csv</option>\n",
    "<option value=ADM_data.csv>ADM_data.csv</option>\n",
    "<option value=ADP_data.csv>ADP_data.csv</option>\n",
    "<option value=ADSK_data.csv>ADSK_data.csv</option>\n",
    "<option value=ADS_data.csv>ADS_data.csv</option>\n",
    "<option value=AEE_data.csv>AEE_data.csv</option>\n",
    "<option value=AEP_data.csv>AEP_data.csv</option>\n",
    "<option value=AES_data.csv>AES_data.csv</option>\n",
    "<option value=AET_data.csv>AET_data.csv</option>\n",
    "<option value=AFL_data.csv>AFL_data.csv</option>\n",
    "<option value=AGN_data.csv>AGN_data.csv</option>\n",
    "<option value=AIG_data.csv>AIG_data.csv</option>\n",
    "<option value=AIV_data.csv>AIV_data.csv</option>\n",
    "<option value=AIZ_data.csv>AIZ_data.csv</option>\n",
    "<option value=AJG_data.csv>AJG_data.csv</option>\n",
    "<option value=AKAM_data.csv>AKAM_data.csv</option>\n",
    "<option value=ALB_data.csv>ALB_data.csv</option>\n",
    "<option value=ALGN_data.csv>ALGN_data.csv</option>\n",
    "<option value=ALK_data.csv>ALK_data.csv</option>\n",
    "<option value=ALLE_data.csv>ALLE_data.csv</option>\n",
    "<option value=ALL_data.csv>ALL_data.csv</option>\n",
    "<option value=ALXN_data.csv>ALXN_data.csv</option>\n",
    "<option value=AMAT_data.csv>AMAT_data.csv</option>\n",
    "<option value=AMD_data.csv>AMD_data.csv</option>\n",
    "<option value=AME_data.csv>AME_data.csv</option>\n",
    "<option value=AMGN_data.csv>AMGN_data.csv</option>\n",
    "<option value=AMG_data.csv>AMG_data.csv</option>\n",
    "<option value=AMP_data.csv>AMP_data.csv</option>\n",
    "<option value=AMT_data.csv>AMT_data.csv</option>\n",
    "<option value=AMZN_data.csv>AMZN_data.csv</option>\n",
    "<option value=ANDV_data.csv>ANDV_data.csv</option>\n",
    "<option value=ANSS_data.csv>ANSS_data.csv</option>\n",
    "<option value=ANTM_data.csv>ANTM_data.csv</option>\n",
    "<option value=AON_data.csv>AON_data.csv</option>\n",
    "<option value=AOS_data.csv>AOS_data.csv</option>\n",
    "<option value=APA_data.csv>APA_data.csv</option>\n",
    "<option value=APC_data.csv>APC_data.csv</option>\n",
    "<option value=APD_data.csv>APD_data.csv</option>\n",
    "<option value=APH_data.csv>APH_data.csv</option>\n",
    "<option value=APTV_data.csv>APTV_data.csv</option>\n",
    "<option value=ARE_data.csv>ARE_data.csv</option>\n",
    "<option value=ARNC_data.csv>ARNC_data.csv</option>\n",
    "<option value=ATVI_data.csv>ATVI_data.csv</option>\n",
    "<option value=AVB_data.csv>AVB_data.csv</option>\n",
    "<option value=AVGO_data.csv>AVGO_data.csv</option>\n",
    "<option value=AVY_data.csv>AVY_data.csv</option>\n",
    "<option value=AWK_data.csv>AWK_data.csv</option>\n",
    "<option value=AXP_data.csv>AXP_data.csv</option>\n",
    "<option value=AYI_data.csv>AYI_data.csv</option>\n",
    "<option value=AZO_data.csv>AZO_data.csv</option>\n",
    "<option value=A_data.csv>A_data.csv</option>"
   ]
  },
  {
   "cell_type": "code",
   "execution_count": null,
   "id": "c934647f",
   "metadata": {},
   "outputs": [],
   "source": []
  }
 ],
 "metadata": {
  "kernelspec": {
   "display_name": "Python 3 (ipykernel)",
   "language": "python",
   "name": "python3"
  },
  "language_info": {
   "codemirror_mode": {
    "name": "ipython",
    "version": 3
   },
   "file_extension": ".py",
   "mimetype": "text/x-python",
   "name": "python",
   "nbconvert_exporter": "python",
   "pygments_lexer": "ipython3",
   "version": "3.9.13"
  }
 },
 "nbformat": 4,
 "nbformat_minor": 5
}
